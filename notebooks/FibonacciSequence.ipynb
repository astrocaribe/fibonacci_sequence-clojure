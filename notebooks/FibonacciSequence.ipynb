{
 "cells": [
  {
   "cell_type": "markdown",
   "metadata": {},
   "source": [
    "## Fibonacci Sequence - Clojure\n",
    "\n",
    "This Clojure script calculates the fibonacci number given a positive integer, and returns a hash map containing:\n",
    "  * a) The fibonacci number at the input value\n",
    "  * b) The fibonacci sequence up to the input value"
   ]
  },
  {
   "cell_type": "code",
   "execution_count": 1,
   "metadata": {
    "collapsed": false
   },
   "outputs": [
    {
     "data": {
      "text/plain": [
       "#'user/fNumberIterative"
      ]
     },
     "execution_count": 1,
     "metadata": {},
     "output_type": "execute_result"
    }
   ],
   "source": [
    "(defn fNumberIterative \n",
    "  \"Calculate the Fibonacci number given an integer, using the iterative function\"\n",
    "  [inputValue]\n",
    "  (println (str \"Input value: \" inputValue))\n",
    "  \n",
    "  (def fib0 0)\n",
    "  (def fib1 1)\n",
    "  (def fibList [])\n",
    "  (defn fibSequence\n",
    "    [originalVal additionalVal]\n",
    "    (conj originalVal additionalVal))\n",
    "  \n",
    "  (loop [iteration 0]\n",
    "    (def tempValue fib0)\n",
    "    (def fib0 fib1)\n",
    "    (def fib1 (+ fib1 tempValue))\n",
    "    \n",
    "    (def fibList (fibSequence fibList tempValue))\n",
    "    \n",
    "    (if (= iteration inputValue)\n",
    "      (println \"Done!\")\n",
    "      (recur (inc iteration))))\n",
    "  \n",
    "  {:a tempValue :b fibList})"
   ]
  },
  {
   "cell_type": "code",
   "execution_count": 2,
   "metadata": {
    "collapsed": false
   },
   "outputs": [
    {
     "name": "stdout",
     "output_type": "stream",
     "text": [
      "Input value: 20\n",
      "Done!\n"
     ]
    },
    {
     "data": {
      "text/plain": [
       "{:a 6765, :b [0 1 1 2 3 5 8 13 21 34 55 89 144 233 377 610 987 1597 2584 4181 6765]}"
      ]
     },
     "execution_count": 2,
     "metadata": {},
     "output_type": "execute_result"
    }
   ],
   "source": [
    "(fNumberIterative 20)"
   ]
  },
  {
   "cell_type": "code",
   "execution_count": null,
   "metadata": {
    "collapsed": true
   },
   "outputs": [],
   "source": []
  }
 ],
 "metadata": {
  "kernelspec": {
   "display_name": "Clojure",
   "language": "clojure",
   "name": "clojure"
  }
 },
 "nbformat": 4,
 "nbformat_minor": 0
}
